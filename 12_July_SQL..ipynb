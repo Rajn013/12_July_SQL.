{
 "cells": [
  {
   "cell_type": "markdown",
   "id": "d10b131f",
   "metadata": {},
   "source": [
    "\n",
    "1. Write an SQL query to retrieve the names and email addresses of all employees from a table named \"Employees\".\n"
   ]
  },
  {
   "cell_type": "raw",
   "id": "eb25ae78",
   "metadata": {},
   "source": [
    "SELECT Name, Email\n",
    "FROM Employees;\n"
   ]
  },
  {
   "cell_type": "markdown",
   "id": "83ba25a8",
   "metadata": {},
   "source": [
    "2. Write an SQL query to filter records from a table named \"Customers\" where the \"City\" column is 'New York'.\n"
   ]
  },
  {
   "cell_type": "raw",
   "id": "6f862060",
   "metadata": {},
   "source": [
    "SELECT *\n",
    "FROM Customers\n",
    "WHERE City = 'New York';\n"
   ]
  },
  {
   "cell_type": "markdown",
   "id": "d9803845",
   "metadata": {},
   "source": [
    "3. Write an SQL query to sort records in descending order based on the \"DateOfBirth\" column in a table named \"Users\".\n"
   ]
  },
  {
   "cell_type": "raw",
   "id": "7058367e",
   "metadata": {},
   "source": [
    "SELECT *\n",
    "FROM Users\n",
    "ORDER BY DateOfBirth DESC;\n"
   ]
  },
  {
   "cell_type": "markdown",
   "id": "c7cbfac1",
   "metadata": {},
   "source": [
    "4. Write an SQL query to sort records in ascending order based on the \"RegistrationDate\" column in a table named \"Users\".\n"
   ]
  },
  {
   "cell_type": "raw",
   "id": "03aa3719",
   "metadata": {},
   "source": [
    "SELECT *\n",
    "FROM Users\n",
    "ORDER BY RegistrationDate ASC;\n"
   ]
  },
  {
   "cell_type": "markdown",
   "id": "ef988a24",
   "metadata": {},
   "source": [
    "5. Write an SQL query to find the employee with the highest salary from a table named \"Employees\" and display their name, position, and salary.\n"
   ]
  },
  {
   "cell_type": "raw",
   "id": "a9bc4fc7",
   "metadata": {},
   "source": [
    "SELECT Name, Position, Salary\n",
    "FROM Employees\n",
    "WHERE Salary = (SELECT MAX(Salary) FROM Employees);\n"
   ]
  },
  {
   "cell_type": "markdown",
   "id": "84b4f28c",
   "metadata": {},
   "source": [
    "6. Write an SQL query to retrieve records from a table named \"Customers\" where the \"Phone\" column matches the pattern '+1-XXX-XXX-XXXX'.\n"
   ]
  },
  {
   "cell_type": "raw",
   "id": "0a3ed4c8",
   "metadata": {},
   "source": [
    "SELECT *\n",
    "FROM Customers\n",
    "WHERE Phone LIKE '+1-___-___-____';\n"
   ]
  },
  {
   "cell_type": "markdown",
   "id": "73f4b1fd",
   "metadata": {},
   "source": [
    "7. Write an SQL query to retrieve the top 5 customers with the highest total purchase amount from a table named \"Orders\" and display their names and total purchase amounts.\n"
   ]
  },
  {
   "cell_type": "raw",
   "id": "b7d51fbd",
   "metadata": {},
   "source": [
    "SELECT CustomerName, SUM(PurchaseAmount) AS TotalPurchaseAmount\n",
    "FROM Orders\n",
    "GROUP BY CustomerName\n",
    "ORDER BY TotalPurchaseAmount DESC\n",
    "LIMIT 5;\n"
   ]
  },
  {
   "cell_type": "markdown",
   "id": "a862ab7c",
   "metadata": {},
   "source": [
    "8. Write an SQL query to calculate the percentage of sales for each product category in a table named \"Sales\" and display the category name, total sales amount, and the percentage of total sales.\n"
   ]
  },
  {
   "cell_type": "raw",
   "id": "d1c0cbca",
   "metadata": {},
   "source": [
    "SELECT CategoryName, SUM(SalesAmount) AS TotalSalesAmount, \n",
    "       (SUM(SalesAmount) / (SELECT SUM(SalesAmount) FROM Sales)) * 100 AS SalesPercentage\n",
    "FROM Sales\n",
    "GROUP BY CategoryName;\n"
   ]
  },
  {
   "cell_type": "markdown",
   "id": "3885d70a",
   "metadata": {},
   "source": [
    "9. Write an SQL query to find the customers who have made the highest total purchases across all years from a table named \"Orders\" and display their names, email addresses, and the total purchase amount.\n"
   ]
  },
  {
   "cell_type": "raw",
   "id": "10b689e4",
   "metadata": {},
   "source": [
    "SELECT CustomerName, Email, SUM(PurchaseAmount) AS TotalPurchaseAmount\n",
    "FROM Orders\n",
    "GROUP BY CustomerName, Email\n",
    "ORDER BY TotalPurchaseAmount DESC\n",
    "LIMIT 1;\n"
   ]
  },
  {
   "cell_type": "code",
   "execution_count": null,
   "id": "7f4084a6",
   "metadata": {},
   "outputs": [],
   "source": []
  }
 ],
 "metadata": {
  "kernelspec": {
   "display_name": "Python 3 (ipykernel)",
   "language": "python",
   "name": "python3"
  },
  "language_info": {
   "codemirror_mode": {
    "name": "ipython",
    "version": 3
   },
   "file_extension": ".py",
   "mimetype": "text/x-python",
   "name": "python",
   "nbconvert_exporter": "python",
   "pygments_lexer": "ipython3",
   "version": "3.9.12"
  }
 },
 "nbformat": 4,
 "nbformat_minor": 5
}
